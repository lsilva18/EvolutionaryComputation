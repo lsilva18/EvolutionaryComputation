{
  "nbformat": 4,
  "nbformat_minor": 0,
  "metadata": {
    "colab": {
      "name": "List04Ex01_UnconstrainedOptimization.ipynb",
      "provenance": [],
      "collapsed_sections": [],
      "toc_visible": true,
      "include_colab_link": true
    },
    "kernelspec": {
      "name": "python3",
      "display_name": "Python 3"
    }
  },
  "cells": [
    {
      "cell_type": "markdown",
      "metadata": {
        "id": "view-in-github",
        "colab_type": "text"
      },
      "source": [
        "<a href=\"https://colab.research.google.com/github/lsilva18/EvolutionaryComputation/blob/main/List04Ex01_UnconstrainedOptimization.ipynb\" target=\"_parent\"><img src=\"https://colab.research.google.com/assets/colab-badge.svg\" alt=\"Open In Colab\"/></a>"
      ]
    },
    {
      "cell_type": "markdown",
      "metadata": {
        "id": "1wYv1Dro0o0A"
      },
      "source": [
        "## Instalar pacote DEAP e importar o que for necessário"
      ]
    },
    {
      "cell_type": "code",
      "metadata": {
        "id": "IstMQeJyLsY8",
        "outputId": "79b1c475-14c5-4385-d3fc-f200578cf6e0",
        "colab": {
          "base_uri": "https://localhost:8080/"
        }
      },
      "source": [
        "# https://deap.readthedocs.io/en/master/\n",
        "!pip install deap"
      ],
      "execution_count": null,
      "outputs": [
        {
          "output_type": "stream",
          "text": [
            "Requirement already satisfied: deap in /usr/local/lib/python3.6/dist-packages (1.3.1)\n",
            "Requirement already satisfied: numpy in /usr/local/lib/python3.6/dist-packages (from deap) (1.18.5)\n"
          ],
          "name": "stdout"
        }
      ]
    },
    {
      "cell_type": "code",
      "metadata": {
        "id": "EOPIPPFTLOWj"
      },
      "source": [
        "# Bibliotecas a serem utilizadas\n",
        "import random\n",
        "import numpy as np\n",
        "import matplotlib.pyplot  as plt\n",
        "from deap import algorithms, base\n",
        "from deap import creator, tools"
      ],
      "execution_count": null,
      "outputs": []
    },
    {
      "cell_type": "markdown",
      "metadata": {
        "id": "fCXHT-nTfH5R"
      },
      "source": [
        "## O problema - minimização não restrita\n",
        "\n",
        "Ajustar a uma exponencial do tipo $𝒂𝒆^{𝒃𝒙}$ a um conjunto de pontos ($x_i$, $y_i$) dados pela seguinte tabela."
      ]
    },
    {
      "cell_type": "markdown",
      "metadata": {
        "id": "Mw_2mJ2OeZMo"
      },
      "source": [
        "![image.png](data:image/png;base64,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)"
      ]
    },
    {
      "cell_type": "markdown",
      "metadata": {
        "id": "hLXqfJkU1MZd"
      },
      "source": [
        "## Constantes do problema"
      ]
    },
    {
      "cell_type": "code",
      "metadata": {
        "id": "qi4xmNDJtMg_"
      },
      "source": [
        "LIMINF, LIMSUP = -100, 100\n",
        "DADOS_X = np.array([-1.0, -0.7, -0.4, -0.1, 0.2, 0.5, 0.8, 1.0])\n",
        "DADOS_Y = np.array([36.547, 17.264, 8.155, 3.852, 1.820, 0.860, 0.406, 0.246])\n",
        "IND_SIZE=2 # quantidade de variaveis de decisao \n",
        "random.seed(10)"
      ],
      "execution_count": null,
      "outputs": []
    },
    {
      "cell_type": "markdown",
      "metadata": {
        "id": "XnIouFrh0ynF"
      },
      "source": [
        "## Preparação para Otimização\n"
      ]
    },
    {
      "cell_type": "markdown",
      "metadata": {
        "id": "CCmy6W0xK8vF"
      },
      "source": [
        "### Função Objetivo"
      ]
    },
    {
      "cell_type": "code",
      "metadata": {
        "id": "yDvd6dupLPZa"
      },
      "source": [
        "# Função Objetivo\n",
        "def objective_function(individual):\n",
        "    a = individual[0]\n",
        "    b = individual[1]\n",
        "    funcao_calculada = a * np.exp(b * DADOS_X)\n",
        "    tolerancia = np.sum(np.abs(DADOS_Y - funcao_calculada))\n",
        "    return np.squeeze(tolerancia),"
      ],
      "execution_count": null,
      "outputs": []
    },
    {
      "cell_type": "markdown",
      "metadata": {
        "id": "lD4vj8vkLHA4"
      },
      "source": [
        "### Indivíduos e Variáveis de Decisão"
      ]
    },
    {
      "cell_type": "code",
      "metadata": {
        "id": "9olQK5FtLPVD",
        "outputId": "3973d73b-025b-4751-f731-58344870c844",
        "colab": {
          "base_uri": "https://localhost:8080/"
        }
      },
      "source": [
        "creator.create(\"FitnessMin\", base.Fitness  , weights=(-1.0,))         # função objetivo: <nome>, tipo(f.o.), peso de cada objetivo (no caso só um objetivo)\n",
        "creator.create(\"Individual\", list,  fitness=creator.FitnessMin )      # indivíduo"
      ],
      "execution_count": null,
      "outputs": [
        {
          "output_type": "stream",
          "text": [
            "/usr/local/lib/python3.6/dist-packages/deap/creator.py:141: RuntimeWarning: A class named 'FitnessMin' has already been created and it will be overwritten. Consider deleting previous creation of that class or rename it.\n",
            "  RuntimeWarning)\n",
            "/usr/local/lib/python3.6/dist-packages/deap/creator.py:141: RuntimeWarning: A class named 'Individual' has already been created and it will be overwritten. Consider deleting previous creation of that class or rename it.\n",
            "  RuntimeWarning)\n"
          ],
          "name": "stderr"
        }
      ]
    },
    {
      "cell_type": "code",
      "metadata": {
        "id": "bzh95BzPLPXS"
      },
      "source": [
        "toolbox = base.Toolbox()\n",
        "\n",
        "# Gerador de atributos reais: nome, tipo das variáveis, intervalo (limites inferior e superior)\n",
        "toolbox.register(\"attr_real\", random.uniform, LIMINF, LIMSUP)   # variáveis reais\n",
        "\n",
        "# Inicializador de indivíduo e população\n",
        "toolbox.register(\"individual\", tools.initRepeat, creator.Individual, toolbox.attr_real, IND_SIZE)   # IND_SIZE: número de variáveis de decisão\n",
        "toolbox.register(\"population\", tools.initRepeat, list, toolbox.individual)                          # lista de indivíduos"
      ],
      "execution_count": null,
      "outputs": []
    },
    {
      "cell_type": "markdown",
      "metadata": {
        "id": "5d7o4hAJLJNg"
      },
      "source": [
        "### Operadores"
      ]
    },
    {
      "cell_type": "code",
      "metadata": {
        "id": "sVQgWg7NLPba"
      },
      "source": [
        "# Incializador de operadores\n",
        "toolbox.register(\"evaluate\", objective_function)                              # função objetivo\n",
        "toolbox.register(\"mate\", tools.cxSimulatedBinaryBounded, eta=.5, low=LIMINF, up=LIMSUP)\n",
        "toolbox.register(\"mutate\", tools.mutGaussian , mu=0, sigma=LIMSUP, indpb=0.05)\n",
        "toolbox.register(\"select\", tools.selTournament, tournsize=3)"
      ],
      "execution_count": null,
      "outputs": []
    },
    {
      "cell_type": "markdown",
      "metadata": {
        "id": "6i0YNMDS-8KQ"
      },
      "source": [
        "## Criando população e hall da fama"
      ]
    },
    {
      "cell_type": "code",
      "metadata": {
        "id": "pOq2qgrELPdi"
      },
      "source": [
        "pop = toolbox.population(n=100)                            # inicialização da pop\n",
        "hof = tools.HallOfFame(1)                                  # melhor indivíduo"
      ],
      "execution_count": null,
      "outputs": []
    },
    {
      "cell_type": "markdown",
      "metadata": {
        "id": "P82lEOJQ_K-G"
      },
      "source": [
        "## Definindo estatisticas desejáveis"
      ]
    },
    {
      "cell_type": "code",
      "metadata": {
        "id": "XtI8bW_k_YtH"
      },
      "source": [
        "stats = tools.Statistics(lambda ind: ind.fitness.values)  # estatísticas\n",
        "stats.register(\"avg\", np.mean)\n",
        "stats.register(\"std\", np.std)\n",
        "stats.register(\"min\", np.min)\n",
        "stats.register(\"max\", np.max)"
      ],
      "execution_count": null,
      "outputs": []
    },
    {
      "cell_type": "markdown",
      "metadata": {
        "id": "aeJmx_VB1Psg"
      },
      "source": [
        "## Otimização"
      ]
    },
    {
      "cell_type": "code",
      "metadata": {
        "id": "-t5KOgn71R_v",
        "outputId": "12013564-3031-4059-cc5f-f158f6a22e73",
        "colab": {
          "base_uri": "https://localhost:8080/"
        }
      },
      "source": [
        "pop, log = algorithms.eaSimple(pop, toolbox, cxpb=0.5, mutpb=0.1, ngen=100, stats=stats, halloffame=hof, verbose=True)"
      ],
      "execution_count": null,
      "outputs": [
        {
          "output_type": "stream",
          "text": [
            "gen\tnevals\tavg        \tstd        \tmin    \tmax        \n",
            "0  \t100   \t7.97798e+41\t6.89951e+42\t74.7646\t6.91927e+43\n",
            "1  \t59    \t2.3433e+33 \t2.32818e+34\t74.7646\t2.33995e+35\n",
            "2  \t49    \t2.7194e+38 \t2.70577e+39\t74.7646\t2.7194e+40 \n",
            "3  \t46    \t37312.5    \t162489     \t74.7646\t1.44194e+06\n",
            "4  \t51    \t2.03085e+11\t1.68181e+12\t45.8712\t1.65085e+13\n",
            "5  \t51    \t8.80114e+80\t8.75702e+81\t45.489 \t8.80114e+82\n",
            "6  \t61    \t81.5116    \t47.5037    \t40.1677\t400.831    \n",
            "7  \t59    \t4.45322e+14\t4.4309e+15 \t33.4997\t4.45322e+16\n",
            "8  \t53    \t1.33712e+09\t1.33041e+10\t29.1143\t1.33712e+11\n",
            "9  \t59    \t48.8908    \t8.13259    \t28.2024\t93.7577    \n",
            "10 \t55    \t44.3326    \t16.4919    \t9.61019\t183.602    \n",
            "11 \t64    \t37.869     \t16.3278    \t6.20908\t114.546    \n",
            "12 \t38    \t1.36311e+49\t1.35628e+50\t6.20908\t1.36311e+51\n",
            "13 \t52    \t23.4376    \t30.6457    \t6.20908\t209.37     \n",
            "14 \t54    \t13.5927    \t14.3288    \t2.84671\t86.3599    \n",
            "15 \t47    \t26.8647    \t171.917    \t0.266732\t1730.97    \n",
            "16 \t54    \t6.23009    \t2.39361    \t0.266732\t14.7374    \n",
            "17 \t52    \t6.34092    \t6.24154    \t0.266732\t32.9689    \n",
            "18 \t54    \t1.67977e+59\t1.67135e+60\t0.266732\t1.67977e+61\n",
            "19 \t68    \t1.0743e+81 \t1.06892e+82\t0.266732\t1.0743e+83 \n",
            "20 \t50    \t1.10774    \t1.18308    \t0.237958\t7.49408    \n",
            "21 \t51    \t15.8044    \t153.244    \t0.23412 \t1540.56    \n",
            "22 \t61    \t7.00808e+09\t6.97295e+10\t0.23412 \t7.00808e+11\n",
            "23 \t44    \t0.260142   \t0.012548   \t0.226579\t0.279578   \n",
            "24 \t47    \t40.9545    \t405.012    \t0.226579\t4070.77    \n",
            "25 \t57    \t2.7679e+33 \t2.75403e+34\t0.21741 \t2.7679e+35 \n",
            "26 \t62    \t1.49591e+90\t1.48841e+91\t0.21741 \t1.49591e+92\n",
            "27 \t45    \t2.26577e+64\t2.25441e+65\t0.216368\t2.26577e+66\n",
            "28 \t67    \t0.223633   \t0.00556732 \t0.215504\t0.24057    \n",
            "29 \t48    \t0.218712   \t0.00254891 \t0.215504\t0.226086   \n",
            "30 \t48    \t18657.9    \t185641     \t0.215336\t1.86577e+06\n",
            "31 \t50    \t0.216768   \t0.000761572\t0.214557\t0.218481   \n",
            "32 \t56    \t0.216103   \t0.000714175\t0.214557\t0.21741    \n",
            "33 \t62    \t0.215494   \t0.000557008\t0.214557\t0.218374   \n",
            "34 \t60    \t0.215107   \t0.000468119\t0.214557\t0.216765   \n",
            "35 \t60    \t0.214809   \t0.000310921\t0.214409\t0.215446   \n",
            "36 \t50    \t5.95261e+29\t5.92277e+30\t0.214409\t5.95261e+31\n",
            "37 \t53    \t0.214545   \t3.23937e-05\t0.214409\t0.214557   \n",
            "38 \t46    \t31.9521    \t240.112    \t0.214406\t2231.19    \n",
            "39 \t52    \t20.0154    \t197.017    \t0.214406\t1980.31    \n",
            "40 \t55    \t6.3188e+78 \t6.28712e+79\t0.214406\t6.3188e+80 \n",
            "41 \t44    \t3.6508     \t34.1916    \t0.214406\t343.852    \n",
            "42 \t50    \t6.42694e+86\t6.39473e+87\t0.214404\t6.42694e+88\n",
            "43 \t50    \t5.53773e+10\t5.50997e+11\t0.214404\t5.53773e+12\n",
            "44 \t51    \t8.40663    \t81.5116    \t0.214404\t819.437    \n",
            "45 \t62    \t0.214406   \t6.16302e-07\t0.214404\t0.214408   \n",
            "46 \t49    \t0.214405   \t7.63216e-07\t0.214404\t0.214406   \n",
            "47 \t46    \t0.214405   \t5.86797e-07\t0.214404\t0.214406   \n",
            "48 \t64    \t0.214404   \t2.95043e-07\t0.214404\t0.214405   \n",
            "49 \t37    \t0.214404   \t3.0841e-07 \t0.214404\t0.214404   \n",
            "50 \t61    \t0.214404   \t2.0233e-07 \t0.214404\t0.214404   \n",
            "51 \t44    \t4.77163    \t39.362     \t0.214404\t391.128    \n",
            "52 \t51    \t0.773322   \t5.56117    \t0.214404\t56.1063    \n",
            "53 \t56    \t0.214404   \t8.84969e-10\t0.214404\t0.214404   \n",
            "54 \t59    \t1.9895e+40 \t1.97953e+41\t0.214404\t1.9895e+42 \n",
            "55 \t57    \t27.8028    \t274.501    \t0.214404\t2759.06    \n",
            "56 \t54    \t0.214404   \t2.09529e-11\t0.214404\t0.214404   \n",
            "57 \t58    \t0.214404   \t1.05609e-11\t0.214404\t0.214404   \n",
            "58 \t55    \t0.214404   \t1.32221e-11\t0.214404\t0.214404   \n",
            "59 \t57    \t0.214404   \t5.19867e-12\t0.214404\t0.214404   \n",
            "60 \t49    \t0.214404   \t1.65587e-12\t0.214404\t0.214404   \n",
            "61 \t56    \t1.65178e+15\t1.6435e+16 \t0.214404\t1.65178e+17\n",
            "62 \t65    \t5.68471    \t54.4289    \t0.214404\t547.245    \n",
            "63 \t63    \t0.214404   \t4.12145e-14\t0.214404\t0.214404   \n",
            "64 \t48    \t2.44071e+36\t2.42848e+37\t0.214404\t2.44071e+38\n",
            "65 \t60    \t4.41845e+15\t4.3963e+16 \t0.214404\t4.41845e+17\n",
            "66 \t57    \t1.2823e+50 \t1.27587e+51\t0.214404\t1.2823e+52 \n",
            "67 \t58    \t4.45595e+46\t4.43361e+47\t0.214404\t4.45595e+48\n",
            "68 \t64    \t27.9923    \t198.607    \t0.214404\t1675.1     \n",
            "69 \t62    \t0.214404   \t5.55112e-17\t0.214404\t0.214404   \n",
            "70 \t49    \t0.214404   \t5.55112e-17\t0.214404\t0.214404   \n",
            "71 \t57    \t2.62049e+20\t2.60735e+21\t0.214404\t2.62049e+22\n",
            "72 \t61    \t3.7248     \t34.928     \t0.214404\t351.254    \n",
            "73 \t61    \t2.07108e+63\t2.0607e+64 \t0.214404\t2.07108e+65\n",
            "74 \t58    \t0.214404   \t5.55112e-17\t0.214404\t0.214404   \n",
            "75 \t49    \t38.886     \t384.777    \t0.214404\t3867.37    \n",
            "76 \t54    \t139.577    \t975.259    \t0.214404\t8953.93    \n",
            "77 \t65    \t0.214404   \t5.55112e-17\t0.214404\t0.214404   \n",
            "78 \t43    \t9.82908e+23\t9.77981e+24\t0.214404\t9.82908e+25\n",
            "79 \t52    \t0.214404   \t5.55112e-17\t0.214404\t0.214404   \n",
            "80 \t44    \t0.214404   \t5.55112e-17\t0.214404\t0.214404   \n",
            "81 \t55    \t6.19794e+42\t6.16687e+43\t0.214404\t6.19794e+44\n",
            "82 \t58    \t0.214404   \t5.55112e-17\t0.214404\t0.214404   \n",
            "83 \t52    \t0.214404   \t5.55112e-17\t0.214404\t0.214404   \n",
            "84 \t66    \t0.214404   \t5.55112e-17\t0.214404\t0.214404   \n",
            "85 \t55    \t0.214404   \t5.55112e-17\t0.214404\t0.214404   \n",
            "86 \t56    \t29729.7    \t295313     \t0.214404\t2.96806e+06\n",
            "87 \t45    \t30.0334    \t296.695    \t0.214404\t2982.11    \n",
            "88 \t57    \t2.75978e+82\t2.74595e+83\t0.214404\t2.75978e+84\n",
            "89 \t59    \t26.2702    \t259.252    \t0.214404\t2605.8     \n",
            "90 \t59    \t1.63893e+33\t1.63071e+34\t0.214404\t1.63893e+35\n",
            "91 \t54    \t0.214404   \t5.55112e-17\t0.214404\t0.214404   \n",
            "92 \t62    \t9.30487    \t90.449     \t0.214404\t909.261    \n",
            "93 \t49    \t32.6812    \t323.041    \t0.214404\t3246.9     \n",
            "94 \t61    \t27.4317    \t270.809    \t0.214404\t2721.95    \n",
            "95 \t50    \t69.8785    \t425.698    \t0.214404\t3194.51    \n",
            "96 \t49    \t4.91843e+40\t4.89377e+41\t0.214404\t4.91843e+42\n",
            "97 \t58    \t574.727    \t5716.33    \t0.214404\t57451.5    \n",
            "98 \t50    \t3.91405e+25\t3.89443e+26\t0.214404\t3.91405e+27\n",
            "99 \t52    \t2.26974e+95\t2.25836e+96\t0.214404\t2.26974e+97\n",
            "100\t61    \t37.397     \t239.993    \t0.214404\t1895.52    \n"
          ],
          "name": "stdout"
        }
      ]
    },
    {
      "cell_type": "markdown",
      "metadata": {
        "id": "6igXZchj1TtX"
      },
      "source": [
        "## Resultados"
      ]
    },
    {
      "cell_type": "code",
      "metadata": {
        "id": "tB2d-NNfWPTi",
        "outputId": "7645a69c-aedd-4a45-a629-e44f04518ab6",
        "colab": {
          "base_uri": "https://localhost:8080/"
        }
      },
      "source": [
        "# Melhor solução\n",
        "print(\"Melhor Indivíduo:\")\n",
        "print(\"a= \"+ str(hof[0][0])+ \" b = \"+ str(hof[0][1]))\n",
        "\n",
        "# Melhor resultado da função objetivo\n",
        "print(\"Melhor Resultado da Função Objetivo:\")\n",
        "np.squeeze(objective_function(hof[0]))"
      ],
      "execution_count": null,
      "outputs": [
        {
          "output_type": "stream",
          "text": [
            "Melhor Indivíduo:\n",
            "a= 3.035496247613133 b = -2.488224184063779\n",
            "Melhor Resultado da Função Objetivo:\n"
          ],
          "name": "stdout"
        },
        {
          "output_type": "execute_result",
          "data": {
            "text/plain": [
              "array(0.21440361)"
            ]
          },
          "metadata": {
            "tags": []
          },
          "execution_count": 239
        }
      ]
    },
    {
      "cell_type": "markdown",
      "metadata": {
        "id": "_lPjm2zIewB8"
      },
      "source": [
        "### Gráfico da evolução"
      ]
    },
    {
      "cell_type": "code",
      "metadata": {
        "id": "k1_cWRBs4Bpf",
        "outputId": "acaa710b-9557-4f0b-921a-37028dd3bf5b",
        "colab": {
          "base_uri": "https://localhost:8080/",
          "height": 279
        }
      },
      "source": [
        "gen, min = log.select('gen', 'min')\n",
        "plt.plot(gen, min, label='menor')\n",
        "plt.ylabel('avaliação ($\\Sigma erros$)')\n",
        "plt.xlabel('geração')\n",
        "plt.legend();"
      ],
      "execution_count": null,
      "outputs": [
        {
          "output_type": "display_data",
          "data": {
            "image/png": "[encoded data removed]",
            "text/plain": [
              "<Figure size 432x288 with 1 Axes>"
            ]
          },
          "metadata": {
            "tags": [],
            "needs_background": "light"
          }
        }
      ]
    },
    {
      "cell_type": "code",
      "metadata": {
        "id": "iBKueAjkE8GT",
        "outputId": "f1ac42c2-303b-4aba-97d7-91233a0e85a4",
        "colab": {
          "base_uri": "https://localhost:8080/",
          "height": 279
        }
      },
      "source": [
        "a, b = hof[0]\n",
        "plt.scatter( DADOS_X, DADOS_Y, label='dados', c = 'b')\n",
        "plt.plot(DADOS_X, a*np.exp(b*DADOS_X), label = 'ajuste', c = 'r')\n",
        "plt.xlabel('x')\n",
        "plt.ylabel('$y(x) = 𝒂𝒆^{𝒃𝒙}$')\n",
        "plt.legend();"
      ],
      "execution_count": null,
      "outputs": [
        {
          "output_type": "display_data",
          "data": {
            "image/png": "[encoded data removed]",
            "text/plain": [
              "<Figure size 432x288 with 1 Axes>"
            ]
          },
          "metadata": {
            "tags": [],
            "needs_background": "light"
          }
        }
      ]
    }
  ]
}